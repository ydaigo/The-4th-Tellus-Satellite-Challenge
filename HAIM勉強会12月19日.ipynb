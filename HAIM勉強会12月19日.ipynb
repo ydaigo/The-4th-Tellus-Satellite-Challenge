{
  "nbformat": 4,
  "nbformat_minor": 0,
  "metadata": {
    "colab": {
      "name": "HAIM勉強会12月19日",
      "provenance": [],
      "collapsed_sections": [],
      "authorship_tag": "ABX9TyM/sl10ubSV7hjFYcgy1kbq",
      "include_colab_link": true
    },
    "kernelspec": {
      "name": "python3",
      "display_name": "Python 3"
    }
  },
  "cells": [
    {
      "cell_type": "markdown",
      "metadata": {
        "id": "view-in-github",
        "colab_type": "text"
      },
      "source": [
        "<a href=\"https://colab.research.google.com/github/ydaigo/The-4th-Tellus-Satellite-Challenge/blob/main/HAIM%E5%8B%89%E5%BC%B7%E4%BC%9A12%E6%9C%8819%E6%97%A5.ipynb\" target=\"_parent\"><img src=\"https://colab.research.google.com/assets/colab-badge.svg\" alt=\"Open In Colab\"/></a>"
      ]
    },
    {
      "cell_type": "markdown",
      "metadata": {
        "id": "XLI3buKfdG0L"
      },
      "source": [
        "#HAIM勉強会12月19日\n",
        "#海岸線抽出コンペ奮闘記\n",
        "\n",
        "#自己紹介\n",
        "\n",
        "- twitter abcd161  \n",
        "- 住んでいる所　富山  \n",
        "- 目標　kaggleでExpertになること\n",
        "\n",
        "- signateでの実績\n",
        "  - [国立国会図書館の画像データレイアウト認識](https://signate.jp/competitions/218) 14/101\n",
        "  - [The 4th Tellus Satellite Challenge：海岸線の抽出](https://signate.jp/competitions/284) 22/125　今回のLTでプレゼン\n",
        "\n",
        "![](https://i.imgur.com/UW28ZLP.png)"
      ]
    },
    {
      "cell_type": "markdown",
      "metadata": {
        "id": "Gl6i3zzsbbrN"
      },
      "source": [
        "# 海岸線の抽出コンペ概要\r\n",
        "\r\n",
        "- 内容\r\n",
        "  - 海岸の衛星データから海と陸の境界である海岸線を抽出精度を競う。\r\n",
        "  ![](https://i.imgur.com/7dmXLD9.png)\r\n",
        "- 社会的意義\r\n",
        "  - 海岸の浸食されることで動植物への影響や高潮や津波を防ぐ能力が弱くなることが問題となっている。\r\n",
        "  - 衛星から海岸を監視することで海岸の浸食をいち早く察知する取り組みがある。\r\n",
        "  - 衛星の画像から海岸領域を判読するのに高度なスキルが必要である。  \r\n",
        "↓  \r\n",
        "高い精度で海岸線を抽出するアルゴリズムが必要！\r\n",
        "\r\n",
        "- 結果\r\n",
        "  - サブミットとスコアの推移\r\n",
        "\r\n",
        "![](https://i.imgur.com/9GtnhQF.png)\r\n",
        "\r\n",
        "\r\n",
        "# コンペの流れ\r\n",
        "\r\n",
        "![](https://i.imgur.com/nofA3zy.png)\r\n"
      ]
    },
    {
      "cell_type": "markdown",
      "metadata": {
        "id": "JrfCY-jVbwlk"
      },
      "source": [
        "# 奮闘記\r\n",
        "\r\n",
        "本コンペでの自分の取り組みを説明\r\n",
        "\r\n",
        "- 第1話: 評価指標を見てみる\r\n",
        "\r\n",
        "- 第2話: サンプル用の提出データをとりあえず提出する\r\n",
        "\r\n",
        "- 第3話 データを見る\r\n",
        "\r\n",
        "- 第4話: kaggleで似たコンペがないかを探す\r\n",
        "\r\n",
        "- 第5話: Unetとは?\r\n",
        "\r\n",
        "- 第6話: 入力画像を大きくする→成功\r\n",
        "\r\n",
        "- 第7話: モデルを深くする→失敗"
      ]
    },
    {
      "cell_type": "markdown",
      "metadata": {
        "id": "y2int37dhm-K"
      },
      "source": [
        "# 第1話　評価指標を見る\r\n",
        "- 実際の海岸線に垂直にひかれた評価選を用いて、予測した海岸線と実際の海岸線との誤差をスコアとして算出する。\r\n",
        "\r\n",
        "- 評価線一つあたりの誤差が評価指標となる。\r\n",
        "\r\n",
        "- 評価線の長さは165ピクセルであるため、165が最低スコアである\r\n",
        "\r\n",
        "- 誤差が小さいほど検出精度が高いことになる。\r\n",
        "\r\n",
        "\r\n",
        "<img src=\"https://static.signate.jp/competitions/284/RsCDYrykZ4dblRI8WQQltbAgyWRFs6nu3laR3llE.png\" width=\"60%\">\r\n"
      ]
    },
    {
      "cell_type": "markdown",
      "metadata": {
        "id": "uS8EGgTJFxQm"
      },
      "source": [
        "#第2話サンプル用の提出データをとりあえず提出する\r\n",
        "\r\n",
        "- サンプル用の提出データは左上から右下に海岸線があるとすべて予測されている\r\n",
        "\r\n",
        "![](https://i.imgur.com/PPGzvFa.png)\r\n",
        "\r\n",
        "\r\n",
        "![](https://i.imgur.com/iweXCHR.png)\r\n"
      ]
    },
    {
      "cell_type": "markdown",
      "metadata": {
        "id": "giwTkfItZYhZ"
      },
      "source": [
        "# 第3話 データを見る\r\n",
        "- 訓練用の海岸線の画像が20枚とそれらに対応する海岸線の位置を表したjsonファイルとテスト用の海岸の画像が30枚与えられる。\r\n",
        "  - 時間帯の違う同じ場所の画像がありデータが欠損している\r\n",
        "\r\n",
        "  ![](https://i.imgur.com/9VDH7Dx.png)\r\n",
        "  - 画像サイズが大きい\r\n",
        "  \r\n",
        "  ![](https://i.imgur.com/DoOsqSh.png)\r\n",
        "\r\n",
        "\r\n",
        "\r\n",
        "\r\n",
        "\r\n",
        "\r\n"
      ]
    },
    {
      "cell_type": "markdown",
      "metadata": {
        "id": "vIIfiEL5n3oX"
      },
      "source": [
        "# 第4話　kaggleで似たコンペがないかを探す\r\n",
        "\r\n",
        "- [TGS Salt Identification Challenge](https://www.kaggle.com/c/tgs-salt-identification-challenge)という地質画像から塩領域を特定するコンテストが見つかった\r\n",
        "  - コンペの内容はする塩領域とそうでない領域をピクセル単位で分類\r\n",
        "  - 緑が塩がない領域またはすべてが塩の領域、赤が塩がある領域\r\n",
        "\r\n",
        "![](https://i.imgur.com/KzPpwoz.png)\r\n",
        "[出典](https://arxiv.org/pdf/1904.04445.pdf)\r\n",
        "\r\n",
        "- このコンペの[Notebooks](https://www.kaggle.com/jesperdramsch/intro-to-seismic-salt-and-how-to-geophysics)を参考にコードを書くことにした\r\n",
        "  - 塩領域の分類をUnetというアルゴリズムを用いて実現している\r\n",
        "  - kerasを用いてUnetを実装している"
      ]
    },
    {
      "cell_type": "markdown",
      "metadata": {
        "id": "T5BITAOL2E3C"
      },
      "source": [
        "# 第5話 Unetとは?\r\n",
        "\r\n",
        "- セマンティックセグメンテーションのアルゴリズムの一つ\r\n",
        "- \r\n",
        "- セマンティックセグメンテーションとは画像に写っている物体をピクセルレベルで識別する技術  \r\n",
        "セマンティックセグメンテーションの例  \r\n",
        "![](https://raw.githubusercontent.com/open-mmlab/mmdetection/master/resources/coco_test_12510.jpg)\r\n",
        "\r\n",
        "- Unetのアーキテクチャー\r\n",
        "\r\n",
        "![](https://www.acceluniverse.com/blog/developers/u_net_arc2.png)\r\n",
        "\r\n",
        "- 特徴\r\n",
        "  - 学習が速い\r\n",
        "  - 少ないデータで学習ができる"
      ]
    },
    {
      "cell_type": "markdown",
      "metadata": {
        "id": "lGmj75VazUq5"
      },
      "source": [
        "#第3話 境界線を予測するモデルを作る→失敗\r\n",
        "\r\n",
        "- Unetのモデルを入力画像を海岸の画像、出力画像を海岸線の画像として学習させた  \r\n",
        "↓   \r\n",
        "##失敗\r\n",
        "\r\n",
        "![](https://i.imgur.com/gyZwaQ4.png)\r\n",
        "\r\n",
        "\r\n",
        "- 理由\r\n",
        "  - 正解ラベルの数が少なすぎて、適切にモデルをとレーニングができなかったため。"
      ]
    },
    {
      "cell_type": "markdown",
      "metadata": {
        "id": "nwq0Xt7FrP1l"
      },
      "source": [
        "# 第5話セマンティックセグメンテーション用にラベルを付けなおして再学習！\r\n",
        "\r\n",
        "- 手動でマスク画像を作成し直す\r\n",
        "- 画像サイズは128*128\r\n",
        "\r\n",
        "![](https://i.imgur.com/ZmIyFLQ.png)\r\n",
        "\r\n",
        "![Uploading file..._gptip3pzt]()\r\n"
      ]
    },
    {
      "cell_type": "markdown",
      "metadata": {
        "id": "-bP-xKRxAs9C"
      },
      "source": [
        "#第6話データを拡張してみる\r\n",
        "- 欠損データに対応するためにデータの拡張により疑似的にデータが欠損した部分を作成する。\r\n",
        "\r\n",
        "![](https://i.imgur.com/KH7KPjz.png)\r\n",
        "\r\n",
        "![](https://i.imgur.com/55Va3DS.png)\r\n",
        "\r\n"
      ]
    },
    {
      "cell_type": "markdown",
      "metadata": {
        "id": "6Dcq-bHxBE87"
      },
      "source": [
        "# 第7話 入力サイズを大きくする\r\n",
        "- 入力画像サイズを128＊128から512＊512とした\r\n",
        "\r\n",
        "![](https://i.imgur.com/152bh0w.png)\r\n"
      ]
    },
    {
      "cell_type": "markdown",
      "metadata": {
        "id": "IC3lJNJrBZxV"
      },
      "source": [
        "#最終話　結果\r\n",
        "###シェイクアップ!!\r\n",
        "- 暫定スコア 30  \r\n",
        "↓\r\n",
        "- 最終スコア 18  \r\n",
        "\r\n",
        "#結果22位となった！"
      ]
    },
    {
      "cell_type": "markdown",
      "metadata": {
        "id": "nTaq2H5T3lPo"
      },
      "source": [
        "# ハンズオン\r\n"
      ]
    },
    {
      "cell_type": "code",
      "metadata": {
        "colab": {
          "base_uri": "https://localhost:8080/",
          "height": 1000
        },
        "cellView": "form",
        "id": "rMilMvOI3oFr",
        "outputId": "57b41713-7c96-449c-de5d-8614558e16f0"
      },
      "source": [
        "#@title ライブラリのインポート\r\n",
        "!pip uninstall tensorflow -y\r\n",
        "!pip install tensorflow-gpu==1.15\r\n",
        "!pip uninstall keras -y\r\n",
        "!pip install keras==2.2.4\r\n",
        "import os\r\n",
        "import sys\r\n",
        "import random\r\n",
        "import warnings\r\n",
        "import json\r\n",
        "\r\n",
        "import pandas as pd\r\n",
        "import numpy as np\r\n",
        "import matplotlib.pyplot as plt\r\n",
        "%matplotlib inline\r\n",
        "\r\n",
        "import cv2\r\n",
        "import tifffile\r\n",
        "from tqdm import tqdm_notebook, tnrange\r\n",
        "from itertools import chain\r\n",
        "from skimage.io import imread, imshow, concatenate_images\r\n",
        "from skimage.transform import resize\r\n",
        "from skimage.morphology import label\r\n",
        "\r\n",
        "from keras.models import Model, load_model\r\n",
        "from keras.layers import Input\r\n",
        "from keras.layers.core import Lambda\r\n",
        "from keras.layers.convolutional import Conv2D, Conv2DTranspose\r\n",
        "from keras.layers.pooling import MaxPooling2D\r\n",
        "from keras.layers.merge import concatenate\r\n",
        "from keras.callbacks import EarlyStopping, ModelCheckpoint\r\n",
        "from keras import backend as K\r\n",
        "\r\n",
        "import tensorflow as tf\r\n",
        "\r\n",
        "from keras.preprocessing.image import ImageDataGenerator, array_to_img, img_to_array, load_img\r\n",
        "# generator\r\n",
        "data_gen_args  =dict(featurewise_center=False, \r\n",
        "                             samplewise_center=False, \r\n",
        "                             featurewise_std_normalization=False,\r\n",
        "                             samplewise_std_normalization=False, \r\n",
        "                             zca_whitening=False, \r\n",
        "                             zca_epsilon=1e-06, \r\n",
        "                             rotation_range=90, \r\n",
        "                             width_shift_range=0.1, \r\n",
        "                             height_shift_range=0.1,\r\n",
        "                             brightness_range=None,\r\n",
        "                             shear_range=90, zoom_range=0.0,\r\n",
        "                             channel_shift_range=0.0,\r\n",
        "                             fill_mode='constant', cval=0.0,\r\n",
        "                             horizontal_flip=True, \r\n",
        "                             vertical_flip=True, \r\n",
        "                             rescale=None, \r\n",
        "                             preprocessing_function=None, \r\n",
        "                             data_format=None,\r\n",
        "                             validation_split=0.0)\r\n",
        "image_datagen = ImageDataGenerator(**data_gen_args)\r\n",
        "mask_datagen = ImageDataGenerator(**data_gen_args)\r\n",
        "seed = 1\r\n",
        "image_datagen.fit(X_train[:17], augment=True, seed=seed)\r\n",
        "mask_datagen.fit(Y_train[:17], augment=True, seed=seed)\r\n",
        "image_generator = image_datagen.flow(X_train[:17], y=None, batch_size=32, shuffle=False, seed=0, save_to_dir=None, save_prefix='', save_format='png', subset=None)\r\n",
        "mask_generator = mask_datagen.flow(Y_train[:17], y=None, batch_size=32, shuffle=False, seed=0, save_to_dir=None, save_prefix='', save_format='png', subset=None)\r\n",
        "train_generator = zip(image_generator, mask_generator)"
      ],
      "execution_count": 1,
      "outputs": [
        {
          "output_type": "stream",
          "text": [
            "Uninstalling tensorflow-2.4.0:\n",
            "  Successfully uninstalled tensorflow-2.4.0\n",
            "Collecting tensorflow-gpu==1.15\n",
            "\u001b[?25l  Downloading https://files.pythonhosted.org/packages/a5/ad/933140e74973fb917a194ab814785e7c23680ca5dee6d663a509fe9579b6/tensorflow_gpu-1.15.0-cp36-cp36m-manylinux2010_x86_64.whl (411.5MB)\n",
            "\u001b[K     |████████████████████████████████| 411.5MB 39kB/s \n",
            "\u001b[?25hCollecting keras-applications>=1.0.8\n",
            "\u001b[?25l  Downloading https://files.pythonhosted.org/packages/71/e3/19762fdfc62877ae9102edf6342d71b28fbfd9dea3d2f96a882ce099b03f/Keras_Applications-1.0.8-py3-none-any.whl (50kB)\n",
            "\u001b[K     |████████████████████████████████| 51kB 6.5MB/s \n",
            "\u001b[?25hRequirement already satisfied: wheel>=0.26 in /usr/local/lib/python3.6/dist-packages (from tensorflow-gpu==1.15) (0.36.2)\n",
            "Requirement already satisfied: six>=1.10.0 in /usr/local/lib/python3.6/dist-packages (from tensorflow-gpu==1.15) (1.15.0)\n",
            "Requirement already satisfied: astor>=0.6.0 in /usr/local/lib/python3.6/dist-packages (from tensorflow-gpu==1.15) (0.8.1)\n",
            "Collecting tensorboard<1.16.0,>=1.15.0\n",
            "\u001b[?25l  Downloading https://files.pythonhosted.org/packages/1e/e9/d3d747a97f7188f48aa5eda486907f3b345cd409f0a0850468ba867db246/tensorboard-1.15.0-py3-none-any.whl (3.8MB)\n",
            "\u001b[K     |████████████████████████████████| 3.8MB 52.3MB/s \n",
            "\u001b[?25hRequirement already satisfied: absl-py>=0.7.0 in /usr/local/lib/python3.6/dist-packages (from tensorflow-gpu==1.15) (0.10.0)\n",
            "Requirement already satisfied: opt-einsum>=2.3.2 in /usr/local/lib/python3.6/dist-packages (from tensorflow-gpu==1.15) (3.3.0)\n",
            "Collecting tensorflow-estimator==1.15.1\n",
            "\u001b[?25l  Downloading https://files.pythonhosted.org/packages/de/62/2ee9cd74c9fa2fa450877847ba560b260f5d0fb70ee0595203082dafcc9d/tensorflow_estimator-1.15.1-py2.py3-none-any.whl (503kB)\n",
            "\u001b[K     |████████████████████████████████| 512kB 36.0MB/s \n",
            "\u001b[?25hRequirement already satisfied: termcolor>=1.1.0 in /usr/local/lib/python3.6/dist-packages (from tensorflow-gpu==1.15) (1.1.0)\n",
            "Requirement already satisfied: grpcio>=1.8.6 in /usr/local/lib/python3.6/dist-packages (from tensorflow-gpu==1.15) (1.32.0)\n",
            "Requirement already satisfied: keras-preprocessing>=1.0.5 in /usr/local/lib/python3.6/dist-packages (from tensorflow-gpu==1.15) (1.1.2)\n",
            "Collecting gast==0.2.2\n",
            "  Downloading https://files.pythonhosted.org/packages/4e/35/11749bf99b2d4e3cceb4d55ca22590b0d7c2c62b9de38ac4a4a7f4687421/gast-0.2.2.tar.gz\n",
            "Requirement already satisfied: numpy<2.0,>=1.16.0 in /usr/local/lib/python3.6/dist-packages (from tensorflow-gpu==1.15) (1.19.4)\n",
            "Requirement already satisfied: wrapt>=1.11.1 in /usr/local/lib/python3.6/dist-packages (from tensorflow-gpu==1.15) (1.12.1)\n",
            "Requirement already satisfied: google-pasta>=0.1.6 in /usr/local/lib/python3.6/dist-packages (from tensorflow-gpu==1.15) (0.2.0)\n",
            "Requirement already satisfied: protobuf>=3.6.1 in /usr/local/lib/python3.6/dist-packages (from tensorflow-gpu==1.15) (3.12.4)\n",
            "Requirement already satisfied: h5py in /usr/local/lib/python3.6/dist-packages (from keras-applications>=1.0.8->tensorflow-gpu==1.15) (2.10.0)\n",
            "Requirement already satisfied: setuptools>=41.0.0 in /usr/local/lib/python3.6/dist-packages (from tensorboard<1.16.0,>=1.15.0->tensorflow-gpu==1.15) (50.3.2)\n",
            "Requirement already satisfied: markdown>=2.6.8 in /usr/local/lib/python3.6/dist-packages (from tensorboard<1.16.0,>=1.15.0->tensorflow-gpu==1.15) (3.3.3)\n",
            "Requirement already satisfied: werkzeug>=0.11.15 in /usr/local/lib/python3.6/dist-packages (from tensorboard<1.16.0,>=1.15.0->tensorflow-gpu==1.15) (1.0.1)\n",
            "Requirement already satisfied: importlib-metadata; python_version < \"3.8\" in /usr/local/lib/python3.6/dist-packages (from markdown>=2.6.8->tensorboard<1.16.0,>=1.15.0->tensorflow-gpu==1.15) (3.3.0)\n",
            "Requirement already satisfied: zipp>=0.5 in /usr/local/lib/python3.6/dist-packages (from importlib-metadata; python_version < \"3.8\"->markdown>=2.6.8->tensorboard<1.16.0,>=1.15.0->tensorflow-gpu==1.15) (3.4.0)\n",
            "Requirement already satisfied: typing-extensions>=3.6.4; python_version < \"3.8\" in /usr/local/lib/python3.6/dist-packages (from importlib-metadata; python_version < \"3.8\"->markdown>=2.6.8->tensorboard<1.16.0,>=1.15.0->tensorflow-gpu==1.15) (3.7.4.3)\n",
            "Building wheels for collected packages: gast\n",
            "  Building wheel for gast (setup.py) ... \u001b[?25l\u001b[?25hdone\n",
            "  Created wheel for gast: filename=gast-0.2.2-cp36-none-any.whl size=7540 sha256=2532355b9c3dc035e079f576486e80cd30854d2521ea7c825d2b20ae2d7e7091\n",
            "  Stored in directory: /root/.cache/pip/wheels/5c/2e/7e/a1d4d4fcebe6c381f378ce7743a3ced3699feb89bcfbdadadd\n",
            "Successfully built gast\n",
            "\u001b[31mERROR: tensorflow-probability 0.11.0 has requirement gast>=0.3.2, but you'll have gast 0.2.2 which is incompatible.\u001b[0m\n",
            "Installing collected packages: keras-applications, tensorboard, tensorflow-estimator, gast, tensorflow-gpu\n",
            "  Found existing installation: tensorboard 2.4.0\n",
            "    Uninstalling tensorboard-2.4.0:\n",
            "      Successfully uninstalled tensorboard-2.4.0\n",
            "  Found existing installation: tensorflow-estimator 2.4.0\n",
            "    Uninstalling tensorflow-estimator-2.4.0:\n",
            "      Successfully uninstalled tensorflow-estimator-2.4.0\n",
            "  Found existing installation: gast 0.3.3\n",
            "    Uninstalling gast-0.3.3:\n",
            "      Successfully uninstalled gast-0.3.3\n",
            "Successfully installed gast-0.2.2 keras-applications-1.0.8 tensorboard-1.15.0 tensorflow-estimator-1.15.1 tensorflow-gpu-1.15.0\n",
            "Uninstalling Keras-2.4.3:\n",
            "  Successfully uninstalled Keras-2.4.3\n",
            "Collecting keras==2.2.4\n",
            "\u001b[?25l  Downloading https://files.pythonhosted.org/packages/5e/10/aa32dad071ce52b5502266b5c659451cfd6ffcbf14e6c8c4f16c0ff5aaab/Keras-2.2.4-py2.py3-none-any.whl (312kB)\n",
            "\u001b[K     |████████████████████████████████| 317kB 4.2MB/s \n",
            "\u001b[?25hRequirement already satisfied: keras-applications>=1.0.6 in /usr/local/lib/python3.6/dist-packages (from keras==2.2.4) (1.0.8)\n",
            "Requirement already satisfied: pyyaml in /usr/local/lib/python3.6/dist-packages (from keras==2.2.4) (3.13)\n",
            "Requirement already satisfied: h5py in /usr/local/lib/python3.6/dist-packages (from keras==2.2.4) (2.10.0)\n",
            "Requirement already satisfied: keras-preprocessing>=1.0.5 in /usr/local/lib/python3.6/dist-packages (from keras==2.2.4) (1.1.2)\n",
            "Requirement already satisfied: scipy>=0.14 in /usr/local/lib/python3.6/dist-packages (from keras==2.2.4) (1.4.1)\n",
            "Requirement already satisfied: six>=1.9.0 in /usr/local/lib/python3.6/dist-packages (from keras==2.2.4) (1.15.0)\n",
            "Requirement already satisfied: numpy>=1.9.1 in /usr/local/lib/python3.6/dist-packages (from keras==2.2.4) (1.19.4)\n",
            "\u001b[31mERROR: fancyimpute 0.4.3 requires tensorflow, which is not installed.\u001b[0m\n",
            "Installing collected packages: keras\n",
            "Successfully installed keras-2.2.4\n"
          ],
          "name": "stdout"
        },
        {
          "output_type": "stream",
          "text": [
            "Using TensorFlow backend.\n"
          ],
          "name": "stderr"
        },
        {
          "output_type": "error",
          "ename": "NameError",
          "evalue": "ignored",
          "traceback": [
            "\u001b[0;31m---------------------------------------------------------------------------\u001b[0m",
            "\u001b[0;31mNameError\u001b[0m                                 Traceback (most recent call last)",
            "\u001b[0;32m<ipython-input-1-eeadca9eb28a>\u001b[0m in \u001b[0;36m<module>\u001b[0;34m()\u001b[0m\n\u001b[1;32m     58\u001b[0m \u001b[0mmask_datagen\u001b[0m \u001b[0;34m=\u001b[0m \u001b[0mImageDataGenerator\u001b[0m\u001b[0;34m(\u001b[0m\u001b[0;34m**\u001b[0m\u001b[0mdata_gen_args\u001b[0m\u001b[0;34m)\u001b[0m\u001b[0;34m\u001b[0m\u001b[0;34m\u001b[0m\u001b[0m\n\u001b[1;32m     59\u001b[0m \u001b[0mseed\u001b[0m \u001b[0;34m=\u001b[0m \u001b[0;36m1\u001b[0m\u001b[0;34m\u001b[0m\u001b[0;34m\u001b[0m\u001b[0m\n\u001b[0;32m---> 60\u001b[0;31m \u001b[0mimage_datagen\u001b[0m\u001b[0;34m.\u001b[0m\u001b[0mfit\u001b[0m\u001b[0;34m(\u001b[0m\u001b[0mX_train\u001b[0m\u001b[0;34m[\u001b[0m\u001b[0;34m:\u001b[0m\u001b[0;36m17\u001b[0m\u001b[0;34m]\u001b[0m\u001b[0;34m,\u001b[0m \u001b[0maugment\u001b[0m\u001b[0;34m=\u001b[0m\u001b[0;32mTrue\u001b[0m\u001b[0;34m,\u001b[0m \u001b[0mseed\u001b[0m\u001b[0;34m=\u001b[0m\u001b[0mseed\u001b[0m\u001b[0;34m)\u001b[0m\u001b[0;34m\u001b[0m\u001b[0;34m\u001b[0m\u001b[0m\n\u001b[0m\u001b[1;32m     61\u001b[0m \u001b[0mmask_datagen\u001b[0m\u001b[0;34m.\u001b[0m\u001b[0mfit\u001b[0m\u001b[0;34m(\u001b[0m\u001b[0mY_train\u001b[0m\u001b[0;34m[\u001b[0m\u001b[0;34m:\u001b[0m\u001b[0;36m17\u001b[0m\u001b[0;34m]\u001b[0m\u001b[0;34m,\u001b[0m \u001b[0maugment\u001b[0m\u001b[0;34m=\u001b[0m\u001b[0;32mTrue\u001b[0m\u001b[0;34m,\u001b[0m \u001b[0mseed\u001b[0m\u001b[0;34m=\u001b[0m\u001b[0mseed\u001b[0m\u001b[0;34m)\u001b[0m\u001b[0;34m\u001b[0m\u001b[0;34m\u001b[0m\u001b[0m\n\u001b[1;32m     62\u001b[0m \u001b[0mimage_generator\u001b[0m \u001b[0;34m=\u001b[0m \u001b[0mimage_datagen\u001b[0m\u001b[0;34m.\u001b[0m\u001b[0mflow\u001b[0m\u001b[0;34m(\u001b[0m\u001b[0mX_train\u001b[0m\u001b[0;34m[\u001b[0m\u001b[0;34m:\u001b[0m\u001b[0;36m17\u001b[0m\u001b[0;34m]\u001b[0m\u001b[0;34m,\u001b[0m \u001b[0my\u001b[0m\u001b[0;34m=\u001b[0m\u001b[0;32mNone\u001b[0m\u001b[0;34m,\u001b[0m \u001b[0mbatch_size\u001b[0m\u001b[0;34m=\u001b[0m\u001b[0;36m32\u001b[0m\u001b[0;34m,\u001b[0m \u001b[0mshuffle\u001b[0m\u001b[0;34m=\u001b[0m\u001b[0;32mFalse\u001b[0m\u001b[0;34m,\u001b[0m \u001b[0mseed\u001b[0m\u001b[0;34m=\u001b[0m\u001b[0;36m0\u001b[0m\u001b[0;34m,\u001b[0m \u001b[0msave_to_dir\u001b[0m\u001b[0;34m=\u001b[0m\u001b[0;32mNone\u001b[0m\u001b[0;34m,\u001b[0m \u001b[0msave_prefix\u001b[0m\u001b[0;34m=\u001b[0m\u001b[0;34m''\u001b[0m\u001b[0;34m,\u001b[0m \u001b[0msave_format\u001b[0m\u001b[0;34m=\u001b[0m\u001b[0;34m'png'\u001b[0m\u001b[0;34m,\u001b[0m \u001b[0msubset\u001b[0m\u001b[0;34m=\u001b[0m\u001b[0;32mNone\u001b[0m\u001b[0;34m)\u001b[0m\u001b[0;34m\u001b[0m\u001b[0;34m\u001b[0m\u001b[0m\n",
            "\u001b[0;31mNameError\u001b[0m: name 'X_train' is not defined"
          ]
        }
      ]
    },
    {
      "cell_type": "code",
      "metadata": {
        "id": "Z7VEmHyJ5IbE"
      },
      "source": [
        "#@title 前処理\r\n"
      ],
      "execution_count": null,
      "outputs": []
    },
    {
      "cell_type": "code",
      "metadata": {
        "cellView": "form",
        "id": "UuwekTAc5T5K"
      },
      "source": [
        "#@title モデル\r\n",
        "# Define IoU metric\r\n",
        "def mean_iou(y_true, y_pred):\r\n",
        "    prec = []\r\n",
        "    for t in np.arange(0.5, 1.0, 0.05):\r\n",
        "        y_pred_ = tf.to_int32(y_pred > t)\r\n",
        "        score, up_opt = tf.metrics.mean_iou(y_true, y_pred_, 2)\r\n",
        "        K.get_session().run(tf.local_variables_initializer())\r\n",
        "        with tf.control_dependencies([up_opt]):\r\n",
        "            score = tf.identity(score)\r\n",
        "        prec.append(score)\r\n",
        "    return K.mean(K.stack(prec), axis=0)\r\n",
        "# Build U-Net model\r\n",
        "inputs = Input((im_height, im_width, im_chan))\r\n",
        "s = Lambda(lambda x: x / 255) (inputs)\r\n",
        "\r\n",
        "c1 = Conv2D(8, (3, 3), activation='relu', padding='same') (s)\r\n",
        "c1 = Conv2D(8, (3, 3), activation='relu', padding='same') (c1)\r\n",
        "p1 = MaxPooling2D((2, 2)) (c1)\r\n",
        "\r\n",
        "c2 = Conv2D(16, (3, 3), activation='relu', padding='same') (p1)\r\n",
        "c2 = Conv2D(16, (3, 3), activation='relu', padding='same') (c2)\r\n",
        "p2 = MaxPooling2D((2, 2)) (c2)\r\n",
        "\r\n",
        "c3 = Conv2D(32, (3, 3), activation='relu', padding='same') (p2)\r\n",
        "c3 = Conv2D(32, (3, 3), activation='relu', padding='same') (c3)\r\n",
        "p3 = MaxPooling2D((2, 2)) (c3)\r\n",
        "\r\n",
        "c4 = Conv2D(64, (3, 3), activation='relu', padding='same') (p3)\r\n",
        "c4 = Conv2D(64, (3, 3), activation='relu', padding='same') (c4)\r\n",
        "p4 = MaxPooling2D(pool_size=(2, 2)) (c4)\r\n",
        "\r\n",
        "c5 = Conv2D(128, (3, 3), activation='relu', padding='same') (p4)\r\n",
        "c5 = Conv2D(128, (3, 3), activation='relu', padding='same') (c5)\r\n",
        "\r\n",
        "u6 = Conv2DTranspose(64, (2, 2), strides=(2, 2), padding='same') (c5)\r\n",
        "u6 = concatenate([u6, c4])\r\n",
        "c6 = Conv2D(64, (3, 3), activation='relu', padding='same') (u6)\r\n",
        "c6 = Conv2D(64, (3, 3), activation='relu', padding='same') (c6)\r\n",
        "\r\n",
        "u7 = Conv2DTranspose(32, (2, 2), strides=(2, 2), padding='same') (c6)\r\n",
        "u7 = concatenate([u7, c3])\r\n",
        "c7 = Conv2D(32, (3, 3), activation='relu', padding='same') (u7)\r\n",
        "c7 = Conv2D(32, (3, 3), activation='relu', padding='same') (c7)\r\n",
        "\r\n",
        "u8 = Conv2DTranspose(16, (2, 2), strides=(2, 2), padding='same') (c7)\r\n",
        "u8 = concatenate([u8, c2])\r\n",
        "c8 = Conv2D(16, (3, 3), activation='relu', padding='same') (u8)\r\n",
        "c8 = Conv2D(16, (3, 3), activation='relu', padding='same') (c8)\r\n",
        "\r\n",
        "u9 = Conv2DTranspose(8, (2, 2), strides=(2, 2), padding='same') (c8)\r\n",
        "u9 = concatenate([u9, c1], axis=3)\r\n",
        "c9 = Conv2D(8, (3, 3), activation='relu', padding='same') (u9)\r\n",
        "c9 = Conv2D(8, (3, 3), activation='relu', padding='same') (c9)\r\n",
        "\r\n",
        "outputs = Conv2D(1, (1, 1), activation='sigmoid') (c9)\r\n",
        "\r\n",
        "model = Model(inputs=[inputs], outputs=[outputs])\r\n",
        "model.compile(optimizer='adam', loss='binary_crossentropy', metrics=[mean_iou])\r\n",
        "model.summary()"
      ],
      "execution_count": null,
      "outputs": []
    },
    {
      "cell_type": "code",
      "metadata": {
        "id": "zMTkHa3c5dQG"
      },
      "source": [
        "#title 学習\r\n",
        "import keras\r\n",
        "model = load_model('/content/drive/My Drive/signate/satelite/weight/checkpoint/30.h5', custom_objects={'mean_iou': mean_iou})\r\n",
        "class nvidia(keras.callbacks.Callback):\r\n",
        "    def on_batch_end(self, batch, logs={}):\r\n",
        "        !nvidia-smi\r\n",
        "earlystopper = EarlyStopping(patience=500, verbose=1)\r\n",
        "nvidiaCallback = nvidia()\r\n",
        "checkpointer = ModelCheckpoint('/content/drive/My Drive/signate/satelite/weight/checkpoint/model-tgs-salt-1.h5', verbose=1, save_best_only=True,monitor='val_mean_iou', mode='max')\r\n",
        "results = model.fit_generator(train_generator, validation_data=(X_train[17:],Y_train[17:]), steps_per_epoch=300, epochs=300,\r\n",
        "                    callbacks=[earlystopper, checkpointer],shuffle=False)"
      ],
      "execution_count": null,
      "outputs": []
    },
    {
      "cell_type": "code",
      "metadata": {
        "id": "zE9Dqm1I6N1b"
      },
      "source": [
        "#@title 予測\r\n",
        "model = load_model('/content/drive/My Drive/signate/satelite/weight/checkpoint/model-tgs-salt-1.h5', custom_objects={'mean_iou': mean_iou})\r\n",
        "preds_train = model.predict(X_train[:int(X_train.shape[0]*0.9)], verbose=1)\r\n",
        "preds_val = model.predict(X_train[int(X_train.shape[0]*0.9):], verbose=1)\r\n",
        "preds_test = model.predict(X_test, verbose=1)\r\n",
        "\r\n",
        "# Threshold predictions\r\n",
        "preds_train_t = (preds_train > 0.5).astype(np.uint8)\r\n",
        "preds_val_t = (preds_val > 0.5).astype(np.uint8)\r\n",
        "preds_test_t = (preds_test > 0.5).astype(np.uint8)"
      ],
      "execution_count": null,
      "outputs": []
    },
    {
      "cell_type": "code",
      "metadata": {
        "id": "Lp3Ay80K6SAB"
      },
      "source": [
        "# 予測結果の確認\r\n",
        "plt.imshow(np.squeeze(X_test[i]))\r\n",
        "plt.colorbar()\r\n",
        "plt.show()\r\n",
        "plt.imshow(np.squeeze(preds_test_t[i]))\r\n",
        "plt.show()"
      ],
      "execution_count": null,
      "outputs": []
    }
  ]
}